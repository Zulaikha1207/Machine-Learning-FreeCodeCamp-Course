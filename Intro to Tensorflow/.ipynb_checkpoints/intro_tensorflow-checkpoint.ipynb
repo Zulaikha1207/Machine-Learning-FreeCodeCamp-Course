{
 "cells": [
  {
   "cell_type": "markdown",
   "id": "f317d775",
   "metadata": {},
   "source": [
    "## Introduction to TensorFlow\n",
    "\n",
    "## Date: 9/2/22"
   ]
  },
  {
   "cell_type": "markdown",
   "id": "bf1bcfb5",
   "metadata": {},
   "source": [
    "Properties of tensor:\n",
    "- datatype \n",
    "- shape"
   ]
  }
 ],
 "metadata": {
  "kernelspec": {
   "display_name": "Python 3 (ipykernel)",
   "language": "python",
   "name": "python3"
  },
  "language_info": {
   "codemirror_mode": {
    "name": "ipython",
    "version": 3
   },
   "file_extension": ".py",
   "mimetype": "text/x-python",
   "name": "python",
   "nbconvert_exporter": "python",
   "pygments_lexer": "ipython3",
   "version": "3.9.7"
  }
 },
 "nbformat": 4,
 "nbformat_minor": 5
}
