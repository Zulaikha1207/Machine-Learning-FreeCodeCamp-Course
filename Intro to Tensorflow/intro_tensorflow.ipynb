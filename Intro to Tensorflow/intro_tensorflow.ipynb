{
 "cells": [
  {
   "cell_type": "markdown",
   "id": "9f277f25",
   "metadata": {},
   "source": [
    "## Introduction to TensorFlow\n",
    "\n",
    "## Date: 9/2/22"
   ]
  },
  {
   "cell_type": "markdown",
   "id": "85572888",
   "metadata": {},
   "source": [
    "Properties of tensor:\n",
    "- datatype \n",
    "- shape\n",
    "- rank/degree of tensor\n",
    "    - ex: x=3 has rank 0. \n",
    "    - Whereas, x = ['tim', 'josh', 'pim'] has rank 1, i.e., one dimensional array\n",
    "    - x = [['tim', 'josh', 'pim'], ['max', 'shan', 'lex']] has rank 2, i.e., two arrays and 2 dimensions (matrix)\n",
    "    "
   ]
  },
  {
   "cell_type": "code",
   "execution_count": 3,
   "id": "cdd4682f",
   "metadata": {},
   "outputs": [],
   "source": [
    "import tensorflow as tf"
   ]
  },
  {
   "cell_type": "code",
   "execution_count": 11,
   "id": "06c94347",
   "metadata": {},
   "outputs": [
    {
     "data": {
      "text/plain": [
       "<tf.Variable 'Variable:0' shape=(3,) dtype=string, numpy=array([b'tim', b'josh', b'pim'], dtype=object)>"
      ]
     },
     "execution_count": 11,
     "metadata": {},
     "output_type": "execute_result"
    }
   ],
   "source": [
    "x = tf.Variable(['tim', 'josh', 'pim'] , tf.string)\n",
    "x.shape"
   ]
  },
  {
   "cell_type": "code",
   "execution_count": 14,
   "id": "411005a6",
   "metadata": {},
   "outputs": [
    {
     "data": {
      "text/plain": [
       "TensorShape([2, 3])"
      ]
     },
     "execution_count": 14,
     "metadata": {},
     "output_type": "execute_result"
    }
   ],
   "source": [
    "y = tf.Variable([['tim', 'josh', 'pim'], ['max', 'shan', 'lex']], tf.string)\n",
    "y.shape"
   ]
  },
  {
   "cell_type": "markdown",
   "id": "f9d28078",
   "metadata": {},
   "source": [
    "Here the shape represents the dimension, number of elements in each dimension"
   ]
  },
  {
   "cell_type": "markdown",
   "id": "5be255da",
   "metadata": {},
   "source": [
    "### Changing shape of tensors"
   ]
  },
  {
   "cell_type": "code",
   "execution_count": 15,
   "id": "b4a03559",
   "metadata": {},
   "outputs": [
    {
     "name": "stdout",
     "output_type": "stream",
     "text": [
      "tf.Tensor(\n",
      "[[[1. 1. 1.]\n",
      "  [1. 1. 1.]]], shape=(1, 2, 3), dtype=float32)\n"
     ]
    }
   ],
   "source": [
    "x = tf.ones([1,2,3])\n",
    "print(x)"
   ]
  },
  {
   "cell_type": "markdown",
   "id": "1abf1a98",
   "metadata": {},
   "source": [
    "Here, we have one list[1], withon which we have two [2] lists, where each of the two lists has 3 elements [3]. This can be reshaped in different ways as shown below. Total number of elements is $1*2*3 = 6$"
   ]
  },
  {
   "cell_type": "code",
   "execution_count": 17,
   "id": "dcb8876d",
   "metadata": {},
   "outputs": [
    {
     "name": "stdout",
     "output_type": "stream",
     "text": [
      "tf.Tensor(\n",
      "[[[1.]\n",
      "  [1.]\n",
      "  [1.]]\n",
      "\n",
      " [[1.]\n",
      "  [1.]\n",
      "  [1.]]], shape=(2, 3, 1), dtype=float32)\n",
      "tf.Tensor(\n",
      "[[1. 1. 1.]\n",
      " [1. 1. 1.]], shape=(2, 3), dtype=float32)\n"
     ]
    }
   ],
   "source": [
    "y = tf.reshape(x, [2,3,1])\n",
    "print(y)\n",
    "\n",
    "#when you use -1 the reshape function will automatically \n",
    "#calulate how many remaining elements are there and place them\n",
    "#within 2 lists\n",
    "z = tf.reshape(x, [2, -1])\n",
    "print(z)"
   ]
  }
 ],
 "metadata": {
  "kernelspec": {
   "display_name": "Python 3 (ipykernel)",
   "language": "python",
   "name": "python3"
  },
  "language_info": {
   "codemirror_mode": {
    "name": "ipython",
    "version": 3
   },
   "file_extension": ".py",
   "mimetype": "text/x-python",
   "name": "python",
   "nbconvert_exporter": "python",
   "pygments_lexer": "ipython3",
   "version": "3.9.7"
  }
 },
 "nbformat": 4,
 "nbformat_minor": 5
}
